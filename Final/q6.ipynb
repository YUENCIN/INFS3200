{
 "cells": [
  {
   "cell_type": "code",
   "execution_count": 3,
   "metadata": {
    "collapsed": true
   },
   "outputs": [],
   "source": [
    "import csv\n",
    "import numpy as np\n",
    "import pandas as pd"
   ]
  },
  {
   "cell_type": "code",
   "execution_count": 4,
   "outputs": [],
   "source": [
    "with open('Book3.csv', 'r') as f:\n",
    "    lines = f.read().splitlines()"
   ],
   "metadata": {
    "collapsed": false,
    "pycharm": {
     "name": "#%%\n"
    }
   }
  },
  {
   "cell_type": "code",
   "execution_count": 5,
   "outputs": [],
   "source": [
    "i=0\n",
    "sum=0\n",
    "records=[]\n",
    "for line in lines:\n",
    "    line = line.replace(\"'\", \" \")\n",
    "    line = line.split(',')\n",
    "    if i%100==0:\n",
    "        sum+=1\n",
    "        records.append(line)\n",
    "    i+=1"
   ],
   "metadata": {
    "collapsed": false,
    "pycharm": {
     "name": "#%%\n"
    }
   }
  },
  {
   "cell_type": "code",
   "execution_count": 6,
   "outputs": [
    {
     "data": {
      "text/plain": "37"
     },
     "execution_count": 6,
     "metadata": {},
     "output_type": "execute_result"
    }
   ],
   "source": [
    "sum"
   ],
   "metadata": {
    "collapsed": false,
    "pycharm": {
     "name": "#%%\n"
    }
   }
  },
  {
   "cell_type": "code",
   "execution_count": 27,
   "outputs": [
    {
     "data": {
      "text/plain": "        ID                                              Title  \\\n0        1  American Sniper (Movie Tie-in Edition): The Au...   \n100    101                           My Way: An Autobiography   \n200    201  The Autobiography of Medgar Evers: A Hero's Li...   \n300    301  Dear Reader: The Unauthorized Autobiography of...   \n400    401                          Clough: The Autobiography   \n500    501  The Dance of Reality: A Psychomagical Autobiog...   \n600    601  Mountain Wolf Woman, Sister of Crashing Thunde...   \n700    701                 An Autobiography of General Custer   \n800    801                          Douglass: Autobiographies   \n900    901                      This Is Me: The Autobiography   \n1000  1001                   The Autobiography of Tinker Bell   \n1100  1101  Autobiography of Pops Foster: New Orleans Jazz...   \n1200  1201            The Life of an Artist: an Autobiography   \n1300  1301                    Mucking about: An Autobiography   \n1400  1401  Sacred Estrangement: The Rhetoric of Conversio...   \n1500  1501  And It's Goodnight from Him -: The Autobiograp...   \n1600  1601                  Autobiography of Martin Van Buren   \n1700  1701           New Chapters of Bismarck's Autobiography   \n1800  1801  Up Front . . .: His Strictly Confidential Auto...   \n1900  1901  Autobiography of Friedrich Froebel - Scholar's...   \n2000  2001            A Tejano Son of Texas: An Autobiography   \n2100  2101  The Autobiography of a Newspaper Girl (Classic...   \n2200  2201            The state of Missouri; an autobiography   \n2300  2301  The Rise of the Chinese Communist Party; the A...   \n2400  2401                  The Autobiography of a Journalist   \n2500  2501  Zachary Stoyanoff: Pages from the Autobiograph...   \n2600  2601     Autobiography and Writings of George W. Taylor   \n2700  2701     The Wondrous Autobiography Of Leaf, Erik's Son   \n2800  2801  Recollections and reflections, a professional ...   \n2900  2901                The Autobiography of Arthur Ransome   \n3000  3001  Contemporary Authors Autobiography Series, Vol...   \n3100  3101  The autobiography of the Reverend Lewis Grout ...   \n3200  3201  The First Million the Hardest: An Autobiograph...   \n3300  3301                 Third Lieutenant: An Autobiography   \n3400  3401             Understanding Language Autobiographies   \n3500  3501               Grace Like a River: An Autobiography   \n3600  3601                         Autobiography of Childhood   \n\n                                                Author1          Author2  \\\n0                                            Chris Kyle     Scott McEwen   \n100                                           Paul Anka     David Dalton   \n200                               Myrlie Evers-Williams  Manning Marable   \n300                                      Michael Malice              NaN   \n400                                        Brian Clough      John Sadler   \n500                                Alejandro Jodorowsky              NaN   \n600                               Nancy Oestreich Lurie         Mountain   \n700                                     Stephen Brennan              NaN   \n800                                  Frederick Douglass              NaN   \n900                                          Ian Thorpe              NaN   \n1000                                       Katie Morris              NaN   \n1100                                       Tom Stoddard      Pops Foster   \n1200                                       Jules Breton              NaN   \n1300                                    Paul N. Hasluck              NaN   \n1400                                    Peter A. Dorsey              NaN   \n1500                                     Ronnie Corbett              NaN   \n1600                                   Martin Van Buren              NaN   \n1700                 Bismarck Otto Fu rst von 1815-1898              NaN   \n1800                                    Victor Spinetti              NaN   \n1900                                   Friedrich Fr bel              NaN   \n2000                  Jose Policarpio \"Polly\" Rodriquez              NaN   \n2100                                 Elizabeth L. Banks              NaN   \n2200  Missouri. Commission to the Louisiana purchase...              NaN   \n2300                                      Kuo-tao Chang              NaN   \n2400                             William James Stillman              NaN   \n2500                                  Zakhari Stoyanoff              NaN   \n2600                                   George W. Taylor              NaN   \n2700                                  Judy Link Cuddehe              NaN   \n2800                             James Robinson Planch�              NaN   \n2900                                     Arthur Ransome              NaN   \n3000                                      Mark Zadrozny              NaN   \n3100                        the Rev. Luther M. Keneston              NaN   \n3200                                     A. B. Farquhar              NaN   \n3300                                      Bernard Feuer              NaN   \n3400                                        Bonta Elena              NaN   \n3500                              Christopher Parkening      Kathy Tyers   \n3600                                       Sina Queyras              NaN   \n\n           Author3                                    Publisher  \\\n0     Jim DeFelice                     HarperCollins Publishers   \n100            NaN                           St. Martin's Press   \n200            NaN                                  Basic Books   \n300            NaN  CreateSpace Independent Publishing Platform   \n400            NaN                Transworld Publishers Limited   \n500            NaN          Inner Traditions/Bear &amp; Company   \n600            NaN                 University of Michigan Press   \n700            NaN                          Skyhorse Publishing   \n800            NaN                           Library of America   \n900            NaN               Simon &amp; Schuster Australia   \n1000           NaN                               Golgotha Press   \n1100           NaN                      Hal Leonard Corporation   \n1200           NaN                         HardPress Publishing   \n1300           NaN        University of Western Australia Press   \n1400           NaN                  Penn State University Press   \n1500           NaN                               Viking Penguin   \n1600           NaN                                Da Capo Press   \n1700           NaN                         HardPress Publishing   \n1800           NaN                                  Anova Books   \n1900           NaN                             Scholar's Choice   \n2000           NaN                             Texas Tejano.com   \n2100           NaN                                FB &amp;c Ltd   \n2200           NaN      [Columbia, Mo., Press of E.W. Stephens]   \n2300           NaN                   University Press of Kansas   \n2400           NaN                 Houghton, Mifflin andcompany   \n2500           NaN                             Scholar's Choice   \n2600           NaN                                 Sagwan Press   \n2700           NaN                             Cuddehe Services   \n2800           NaN                               London Tinsley   \n2900           NaN    Random House Adult Trade Publishing Group   \n3000           NaN                                   Gale Group   \n3100           NaN         Brattleboro, Vt. : Clapp &amp; Jones   \n3200           NaN                                FB &amp;c Ltd   \n3300           NaN                                  AuthorHouse   \n3400           NaN               OmniScriptum GmbH &amp; Co. KG   \n3500           NaN                     Tyndale House Publishers   \n3600           NaN                            Coach House Books   \n\n             ISBN13        Date   Pages             ProductDimensions  \\\n0     9780062376336  11/25/2014   416.0   5.20(w) x 7.90(h) x 1.40(d)   \n100   9781250035202  04/09/2013   384.0                           NaN   \n200   9780786722495  08/29/2006   416.0                           NaN   \n300   9781495283253  01/25/2014   420.0   5.90(w) x 8.90(h) x 1.00(d)   \n400   9780552140034  11/01/1995   319.0   4.20(w) x 6.90(h) x 1.10(d)   \n500   9781620552810  06/06/2014   424.0   6.00(w) x 8.90(h) x 1.10(d)   \n600   9780472061099  06/01/1961   176.0   5.00(w) x 8.00(h) x 0.40(d)   \n700   9781620878194  10/17/2012   256.0                           NaN   \n800   9780940450790  02/28/1994  1100.0   5.13(w) x 8.16(h) x 1.50(d)   \n900   9780731815739  10/24/2012   336.0                           NaN   \n1000  2940012571557  05/03/2011     NaN                           NaN   \n1100  9780879308315  01/01/2005   242.0   6.00(w) x 9.00(h) x 0.51(d)   \n1200  9781290500722  08/01/2012   370.0   6.00(w) x 9.00(h) x 0.77(d)   \n1300  9781875560356  02/28/1996   335.0   5.45(w) x 8.18(h) x 0.90(d)   \n1400  9780271073408  07/12/1993   228.0                           NaN   \n1500  9780141028040  06/28/2007     NaN                           NaN   \n1600  9780306712753  06/28/1973   820.0                           NaN   \n1700  9781313524995  01/28/2013   362.0   6.00(w) x 9.00(h) x 0.75(d)   \n1800  9781905798254  01/01/2009   256.0   5.00(w) x 7.70(h) x 0.90(d)   \n1900  9781297224102  02/18/2015   190.0   7.44(w) x 9.69(h) x 0.40(d)   \n2000  9780972251006  04/01/2003     NaN                           NaN   \n2100  9781330389645  06/25/2015   376.0   6.00(w) x 9.00(h) x 0.78(d)   \n2200  2940024773819         NaN     NaN                           NaN   \n2300  9780700600724  01/01/1971     NaN                           NaN   \n2400  2940026619214         NaN     NaN                           NaN   \n2500  9781298248848  02/18/2015   324.0   7.44(w) x 9.69(h) x 0.68(d)   \n2600  9781297969461  08/22/2015    82.0   6.14(w) x 9.21(h) x 0.25(d)   \n2700  9780983665939  01/04/2012    36.0  8.00(w) x 10.00(h) x 0.25(d)   \n2800  2940023549378         NaN     NaN                           NaN   \n2900  9780224012454  12/27/1987   368.0                           NaN   \n3000  9780810345072  12/15/1988   350.0  8.70(w) x 11.10(h) x 1.00(d)   \n3100  2940017762882         NaN     NaN                           NaN   \n3200  9781330433379  06/13/2015   342.0   6.00(w) x 9.00(h) x 0.71(d)   \n3300  9780759635654  10/28/2001   120.0   6.00(w) x 9.02(h) x 0.32(d)   \n3400  9783659775147  09/03/2015   244.0   6.00(w) x 9.00(h) x 0.55(d)   \n3500  9781414300467  05/28/2006   304.0   5.60(w) x 8.40(h) x 1.20(d)   \n3600  9781770562912  12/19/2011   200.0                           NaN   \n\n      SalesRank  RatingsCount  RatingValue PaperbookPrice HardcoverPrice  \\\n0          2616        1037.0          4.3         $12.69         $19.61   \n100        2209          16.0          2.4         $14.49         $21.42   \n200        3580           2.0          4.5         $13.66            NaN   \n300        3172           2.0          3.0            NaN            NaN   \n400        3501           NaN          NaN         $18.95            NaN   \n500        2650           NaN          NaN         $17.10            NaN   \n600        1299           NaN          NaN         $15.15            NaN   \n700        1886           NaN          NaN            NaN         $15.49   \n800        1487           NaN          NaN            NaN         $31.81   \n900         419           NaN          NaN            NaN         $27.38   \n1000       3539           5.0          5.0            NaN            NaN   \n1100       3104           NaN          NaN            NaN            NaN   \n1200       1077           NaN          NaN            NaN            NaN   \n1300       3443           NaN          NaN            NaN            NaN   \n1400       1432           NaN          NaN         $34.95            NaN   \n1500       2456           NaN          NaN            NaN            NaN   \n1600       1065           NaN          NaN            NaN            NaN   \n1700       3083           NaN          NaN            NaN            NaN   \n1800       3594           NaN          NaN            NaN            NaN   \n1900       2013           NaN          NaN         $23.75            NaN   \n2000       2402           NaN          NaN            NaN            NaN   \n2100       2517           NaN          NaN         $23.57            NaN   \n2200       2097           NaN          NaN            NaN            NaN   \n2300       2349           NaN          NaN            NaN            NaN   \n2400       1465           NaN          NaN            NaN            NaN   \n2500       1998           NaN          NaN            NaN            NaN   \n2600        572           NaN          NaN            NaN            NaN   \n2700        443           NaN          NaN            NaN            NaN   \n2800       3351           NaN          NaN            NaN            NaN   \n2900       1701           NaN          NaN            NaN            NaN   \n3000       2876           NaN          NaN            NaN            NaN   \n3100         93           NaN          NaN            NaN            NaN   \n3200        175           NaN          NaN         $12.26            NaN   \n3300       2164           NaN          NaN            NaN            NaN   \n3400       1670           NaN          NaN            NaN            NaN   \n3500       2411           NaN          NaN            NaN            NaN   \n3600       2638           NaN          NaN         $17.95            NaN   \n\n     EbookPrice AudiobookPrice  \n0         $7.99         $21.98  \n100       $9.99            NaN  \n200      $11.49            NaN  \n300         NaN            NaN  \n400      $10.49            NaN  \n500      $13.99            NaN  \n600         NaN            NaN  \n700      $15.49            NaN  \n800         NaN            NaN  \n900      $10.99            NaN  \n1000        NaN            NaN  \n1100        NaN            NaN  \n1200        NaN            NaN  \n1300        NaN            NaN  \n1400     $15.99            NaN  \n1500        NaN            NaN  \n1600        NaN            NaN  \n1700        NaN            NaN  \n1800        NaN            NaN  \n1900        NaN            NaN  \n2000        NaN            NaN  \n2100      $0.00            NaN  \n2200        NaN            NaN  \n2300        NaN            NaN  \n2400      $0.00            NaN  \n2500        NaN            NaN  \n2600        NaN            NaN  \n2700        NaN            NaN  \n2800      $0.00            NaN  \n2900        NaN            NaN  \n3000        NaN            NaN  \n3100        NaN            NaN  \n3200      $0.00            NaN  \n3300        NaN            NaN  \n3400        NaN            NaN  \n3500        NaN            NaN  \n3600     $10.99            NaN  ",
      "text/html": "<div>\n<style scoped>\n    .dataframe tbody tr th:only-of-type {\n        vertical-align: middle;\n    }\n\n    .dataframe tbody tr th {\n        vertical-align: top;\n    }\n\n    .dataframe thead th {\n        text-align: right;\n    }\n</style>\n<table border=\"1\" class=\"dataframe\">\n  <thead>\n    <tr style=\"text-align: right;\">\n      <th></th>\n      <th>ID</th>\n      <th>Title</th>\n      <th>Author1</th>\n      <th>Author2</th>\n      <th>Author3</th>\n      <th>Publisher</th>\n      <th>ISBN13</th>\n      <th>Date</th>\n      <th>Pages</th>\n      <th>ProductDimensions</th>\n      <th>SalesRank</th>\n      <th>RatingsCount</th>\n      <th>RatingValue</th>\n      <th>PaperbookPrice</th>\n      <th>HardcoverPrice</th>\n      <th>EbookPrice</th>\n      <th>AudiobookPrice</th>\n    </tr>\n  </thead>\n  <tbody>\n    <tr>\n      <th>0</th>\n      <td>1</td>\n      <td>American Sniper (Movie Tie-in Edition): The Au...</td>\n      <td>Chris Kyle</td>\n      <td>Scott McEwen</td>\n      <td>Jim DeFelice</td>\n      <td>HarperCollins Publishers</td>\n      <td>9780062376336</td>\n      <td>11/25/2014</td>\n      <td>416.0</td>\n      <td>5.20(w) x 7.90(h) x 1.40(d)</td>\n      <td>2616</td>\n      <td>1037.0</td>\n      <td>4.3</td>\n      <td>$12.69</td>\n      <td>$19.61</td>\n      <td>$7.99</td>\n      <td>$21.98</td>\n    </tr>\n    <tr>\n      <th>100</th>\n      <td>101</td>\n      <td>My Way: An Autobiography</td>\n      <td>Paul Anka</td>\n      <td>David Dalton</td>\n      <td>NaN</td>\n      <td>St. Martin's Press</td>\n      <td>9781250035202</td>\n      <td>04/09/2013</td>\n      <td>384.0</td>\n      <td>NaN</td>\n      <td>2209</td>\n      <td>16.0</td>\n      <td>2.4</td>\n      <td>$14.49</td>\n      <td>$21.42</td>\n      <td>$9.99</td>\n      <td>NaN</td>\n    </tr>\n    <tr>\n      <th>200</th>\n      <td>201</td>\n      <td>The Autobiography of Medgar Evers: A Hero's Li...</td>\n      <td>Myrlie Evers-Williams</td>\n      <td>Manning Marable</td>\n      <td>NaN</td>\n      <td>Basic Books</td>\n      <td>9780786722495</td>\n      <td>08/29/2006</td>\n      <td>416.0</td>\n      <td>NaN</td>\n      <td>3580</td>\n      <td>2.0</td>\n      <td>4.5</td>\n      <td>$13.66</td>\n      <td>NaN</td>\n      <td>$11.49</td>\n      <td>NaN</td>\n    </tr>\n    <tr>\n      <th>300</th>\n      <td>301</td>\n      <td>Dear Reader: The Unauthorized Autobiography of...</td>\n      <td>Michael Malice</td>\n      <td>NaN</td>\n      <td>NaN</td>\n      <td>CreateSpace Independent Publishing Platform</td>\n      <td>9781495283253</td>\n      <td>01/25/2014</td>\n      <td>420.0</td>\n      <td>5.90(w) x 8.90(h) x 1.00(d)</td>\n      <td>3172</td>\n      <td>2.0</td>\n      <td>3.0</td>\n      <td>NaN</td>\n      <td>NaN</td>\n      <td>NaN</td>\n      <td>NaN</td>\n    </tr>\n    <tr>\n      <th>400</th>\n      <td>401</td>\n      <td>Clough: The Autobiography</td>\n      <td>Brian Clough</td>\n      <td>John Sadler</td>\n      <td>NaN</td>\n      <td>Transworld Publishers Limited</td>\n      <td>9780552140034</td>\n      <td>11/01/1995</td>\n      <td>319.0</td>\n      <td>4.20(w) x 6.90(h) x 1.10(d)</td>\n      <td>3501</td>\n      <td>NaN</td>\n      <td>NaN</td>\n      <td>$18.95</td>\n      <td>NaN</td>\n      <td>$10.49</td>\n      <td>NaN</td>\n    </tr>\n    <tr>\n      <th>500</th>\n      <td>501</td>\n      <td>The Dance of Reality: A Psychomagical Autobiog...</td>\n      <td>Alejandro Jodorowsky</td>\n      <td>NaN</td>\n      <td>NaN</td>\n      <td>Inner Traditions/Bear &amp;amp; Company</td>\n      <td>9781620552810</td>\n      <td>06/06/2014</td>\n      <td>424.0</td>\n      <td>6.00(w) x 8.90(h) x 1.10(d)</td>\n      <td>2650</td>\n      <td>NaN</td>\n      <td>NaN</td>\n      <td>$17.10</td>\n      <td>NaN</td>\n      <td>$13.99</td>\n      <td>NaN</td>\n    </tr>\n    <tr>\n      <th>600</th>\n      <td>601</td>\n      <td>Mountain Wolf Woman, Sister of Crashing Thunde...</td>\n      <td>Nancy Oestreich Lurie</td>\n      <td>Mountain</td>\n      <td>NaN</td>\n      <td>University of Michigan Press</td>\n      <td>9780472061099</td>\n      <td>06/01/1961</td>\n      <td>176.0</td>\n      <td>5.00(w) x 8.00(h) x 0.40(d)</td>\n      <td>1299</td>\n      <td>NaN</td>\n      <td>NaN</td>\n      <td>$15.15</td>\n      <td>NaN</td>\n      <td>NaN</td>\n      <td>NaN</td>\n    </tr>\n    <tr>\n      <th>700</th>\n      <td>701</td>\n      <td>An Autobiography of General Custer</td>\n      <td>Stephen Brennan</td>\n      <td>NaN</td>\n      <td>NaN</td>\n      <td>Skyhorse Publishing</td>\n      <td>9781620878194</td>\n      <td>10/17/2012</td>\n      <td>256.0</td>\n      <td>NaN</td>\n      <td>1886</td>\n      <td>NaN</td>\n      <td>NaN</td>\n      <td>NaN</td>\n      <td>$15.49</td>\n      <td>$15.49</td>\n      <td>NaN</td>\n    </tr>\n    <tr>\n      <th>800</th>\n      <td>801</td>\n      <td>Douglass: Autobiographies</td>\n      <td>Frederick Douglass</td>\n      <td>NaN</td>\n      <td>NaN</td>\n      <td>Library of America</td>\n      <td>9780940450790</td>\n      <td>02/28/1994</td>\n      <td>1100.0</td>\n      <td>5.13(w) x 8.16(h) x 1.50(d)</td>\n      <td>1487</td>\n      <td>NaN</td>\n      <td>NaN</td>\n      <td>NaN</td>\n      <td>$31.81</td>\n      <td>NaN</td>\n      <td>NaN</td>\n    </tr>\n    <tr>\n      <th>900</th>\n      <td>901</td>\n      <td>This Is Me: The Autobiography</td>\n      <td>Ian Thorpe</td>\n      <td>NaN</td>\n      <td>NaN</td>\n      <td>Simon &amp;amp; Schuster Australia</td>\n      <td>9780731815739</td>\n      <td>10/24/2012</td>\n      <td>336.0</td>\n      <td>NaN</td>\n      <td>419</td>\n      <td>NaN</td>\n      <td>NaN</td>\n      <td>NaN</td>\n      <td>$27.38</td>\n      <td>$10.99</td>\n      <td>NaN</td>\n    </tr>\n    <tr>\n      <th>1000</th>\n      <td>1001</td>\n      <td>The Autobiography of Tinker Bell</td>\n      <td>Katie Morris</td>\n      <td>NaN</td>\n      <td>NaN</td>\n      <td>Golgotha Press</td>\n      <td>2940012571557</td>\n      <td>05/03/2011</td>\n      <td>NaN</td>\n      <td>NaN</td>\n      <td>3539</td>\n      <td>5.0</td>\n      <td>5.0</td>\n      <td>NaN</td>\n      <td>NaN</td>\n      <td>NaN</td>\n      <td>NaN</td>\n    </tr>\n    <tr>\n      <th>1100</th>\n      <td>1101</td>\n      <td>Autobiography of Pops Foster: New Orleans Jazz...</td>\n      <td>Tom Stoddard</td>\n      <td>Pops Foster</td>\n      <td>NaN</td>\n      <td>Hal Leonard Corporation</td>\n      <td>9780879308315</td>\n      <td>01/01/2005</td>\n      <td>242.0</td>\n      <td>6.00(w) x 9.00(h) x 0.51(d)</td>\n      <td>3104</td>\n      <td>NaN</td>\n      <td>NaN</td>\n      <td>NaN</td>\n      <td>NaN</td>\n      <td>NaN</td>\n      <td>NaN</td>\n    </tr>\n    <tr>\n      <th>1200</th>\n      <td>1201</td>\n      <td>The Life of an Artist: an Autobiography</td>\n      <td>Jules Breton</td>\n      <td>NaN</td>\n      <td>NaN</td>\n      <td>HardPress Publishing</td>\n      <td>9781290500722</td>\n      <td>08/01/2012</td>\n      <td>370.0</td>\n      <td>6.00(w) x 9.00(h) x 0.77(d)</td>\n      <td>1077</td>\n      <td>NaN</td>\n      <td>NaN</td>\n      <td>NaN</td>\n      <td>NaN</td>\n      <td>NaN</td>\n      <td>NaN</td>\n    </tr>\n    <tr>\n      <th>1300</th>\n      <td>1301</td>\n      <td>Mucking about: An Autobiography</td>\n      <td>Paul N. Hasluck</td>\n      <td>NaN</td>\n      <td>NaN</td>\n      <td>University of Western Australia Press</td>\n      <td>9781875560356</td>\n      <td>02/28/1996</td>\n      <td>335.0</td>\n      <td>5.45(w) x 8.18(h) x 0.90(d)</td>\n      <td>3443</td>\n      <td>NaN</td>\n      <td>NaN</td>\n      <td>NaN</td>\n      <td>NaN</td>\n      <td>NaN</td>\n      <td>NaN</td>\n    </tr>\n    <tr>\n      <th>1400</th>\n      <td>1401</td>\n      <td>Sacred Estrangement: The Rhetoric of Conversio...</td>\n      <td>Peter A. Dorsey</td>\n      <td>NaN</td>\n      <td>NaN</td>\n      <td>Penn State University Press</td>\n      <td>9780271073408</td>\n      <td>07/12/1993</td>\n      <td>228.0</td>\n      <td>NaN</td>\n      <td>1432</td>\n      <td>NaN</td>\n      <td>NaN</td>\n      <td>$34.95</td>\n      <td>NaN</td>\n      <td>$15.99</td>\n      <td>NaN</td>\n    </tr>\n    <tr>\n      <th>1500</th>\n      <td>1501</td>\n      <td>And It's Goodnight from Him -: The Autobiograp...</td>\n      <td>Ronnie Corbett</td>\n      <td>NaN</td>\n      <td>NaN</td>\n      <td>Viking Penguin</td>\n      <td>9780141028040</td>\n      <td>06/28/2007</td>\n      <td>NaN</td>\n      <td>NaN</td>\n      <td>2456</td>\n      <td>NaN</td>\n      <td>NaN</td>\n      <td>NaN</td>\n      <td>NaN</td>\n      <td>NaN</td>\n      <td>NaN</td>\n    </tr>\n    <tr>\n      <th>1600</th>\n      <td>1601</td>\n      <td>Autobiography of Martin Van Buren</td>\n      <td>Martin Van Buren</td>\n      <td>NaN</td>\n      <td>NaN</td>\n      <td>Da Capo Press</td>\n      <td>9780306712753</td>\n      <td>06/28/1973</td>\n      <td>820.0</td>\n      <td>NaN</td>\n      <td>1065</td>\n      <td>NaN</td>\n      <td>NaN</td>\n      <td>NaN</td>\n      <td>NaN</td>\n      <td>NaN</td>\n      <td>NaN</td>\n    </tr>\n    <tr>\n      <th>1700</th>\n      <td>1701</td>\n      <td>New Chapters of Bismarck's Autobiography</td>\n      <td>Bismarck Otto Fu rst von 1815-1898</td>\n      <td>NaN</td>\n      <td>NaN</td>\n      <td>HardPress Publishing</td>\n      <td>9781313524995</td>\n      <td>01/28/2013</td>\n      <td>362.0</td>\n      <td>6.00(w) x 9.00(h) x 0.75(d)</td>\n      <td>3083</td>\n      <td>NaN</td>\n      <td>NaN</td>\n      <td>NaN</td>\n      <td>NaN</td>\n      <td>NaN</td>\n      <td>NaN</td>\n    </tr>\n    <tr>\n      <th>1800</th>\n      <td>1801</td>\n      <td>Up Front . . .: His Strictly Confidential Auto...</td>\n      <td>Victor Spinetti</td>\n      <td>NaN</td>\n      <td>NaN</td>\n      <td>Anova Books</td>\n      <td>9781905798254</td>\n      <td>01/01/2009</td>\n      <td>256.0</td>\n      <td>5.00(w) x 7.70(h) x 0.90(d)</td>\n      <td>3594</td>\n      <td>NaN</td>\n      <td>NaN</td>\n      <td>NaN</td>\n      <td>NaN</td>\n      <td>NaN</td>\n      <td>NaN</td>\n    </tr>\n    <tr>\n      <th>1900</th>\n      <td>1901</td>\n      <td>Autobiography of Friedrich Froebel - Scholar's...</td>\n      <td>Friedrich Fr bel</td>\n      <td>NaN</td>\n      <td>NaN</td>\n      <td>Scholar's Choice</td>\n      <td>9781297224102</td>\n      <td>02/18/2015</td>\n      <td>190.0</td>\n      <td>7.44(w) x 9.69(h) x 0.40(d)</td>\n      <td>2013</td>\n      <td>NaN</td>\n      <td>NaN</td>\n      <td>$23.75</td>\n      <td>NaN</td>\n      <td>NaN</td>\n      <td>NaN</td>\n    </tr>\n    <tr>\n      <th>2000</th>\n      <td>2001</td>\n      <td>A Tejano Son of Texas: An Autobiography</td>\n      <td>Jose Policarpio \"Polly\" Rodriquez</td>\n      <td>NaN</td>\n      <td>NaN</td>\n      <td>Texas Tejano.com</td>\n      <td>9780972251006</td>\n      <td>04/01/2003</td>\n      <td>NaN</td>\n      <td>NaN</td>\n      <td>2402</td>\n      <td>NaN</td>\n      <td>NaN</td>\n      <td>NaN</td>\n      <td>NaN</td>\n      <td>NaN</td>\n      <td>NaN</td>\n    </tr>\n    <tr>\n      <th>2100</th>\n      <td>2101</td>\n      <td>The Autobiography of a Newspaper Girl (Classic...</td>\n      <td>Elizabeth L. Banks</td>\n      <td>NaN</td>\n      <td>NaN</td>\n      <td>FB &amp;amp;c Ltd</td>\n      <td>9781330389645</td>\n      <td>06/25/2015</td>\n      <td>376.0</td>\n      <td>6.00(w) x 9.00(h) x 0.78(d)</td>\n      <td>2517</td>\n      <td>NaN</td>\n      <td>NaN</td>\n      <td>$23.57</td>\n      <td>NaN</td>\n      <td>$0.00</td>\n      <td>NaN</td>\n    </tr>\n    <tr>\n      <th>2200</th>\n      <td>2201</td>\n      <td>The state of Missouri; an autobiography</td>\n      <td>Missouri. Commission to the Louisiana purchase...</td>\n      <td>NaN</td>\n      <td>NaN</td>\n      <td>[Columbia, Mo., Press of E.W. Stephens]</td>\n      <td>2940024773819</td>\n      <td>NaN</td>\n      <td>NaN</td>\n      <td>NaN</td>\n      <td>2097</td>\n      <td>NaN</td>\n      <td>NaN</td>\n      <td>NaN</td>\n      <td>NaN</td>\n      <td>NaN</td>\n      <td>NaN</td>\n    </tr>\n    <tr>\n      <th>2300</th>\n      <td>2301</td>\n      <td>The Rise of the Chinese Communist Party; the A...</td>\n      <td>Kuo-tao Chang</td>\n      <td>NaN</td>\n      <td>NaN</td>\n      <td>University Press of Kansas</td>\n      <td>9780700600724</td>\n      <td>01/01/1971</td>\n      <td>NaN</td>\n      <td>NaN</td>\n      <td>2349</td>\n      <td>NaN</td>\n      <td>NaN</td>\n      <td>NaN</td>\n      <td>NaN</td>\n      <td>NaN</td>\n      <td>NaN</td>\n    </tr>\n    <tr>\n      <th>2400</th>\n      <td>2401</td>\n      <td>The Autobiography of a Journalist</td>\n      <td>William James Stillman</td>\n      <td>NaN</td>\n      <td>NaN</td>\n      <td>Houghton, Mifflin andcompany</td>\n      <td>2940026619214</td>\n      <td>NaN</td>\n      <td>NaN</td>\n      <td>NaN</td>\n      <td>1465</td>\n      <td>NaN</td>\n      <td>NaN</td>\n      <td>NaN</td>\n      <td>NaN</td>\n      <td>$0.00</td>\n      <td>NaN</td>\n    </tr>\n    <tr>\n      <th>2500</th>\n      <td>2501</td>\n      <td>Zachary Stoyanoff: Pages from the Autobiograph...</td>\n      <td>Zakhari Stoyanoff</td>\n      <td>NaN</td>\n      <td>NaN</td>\n      <td>Scholar's Choice</td>\n      <td>9781298248848</td>\n      <td>02/18/2015</td>\n      <td>324.0</td>\n      <td>7.44(w) x 9.69(h) x 0.68(d)</td>\n      <td>1998</td>\n      <td>NaN</td>\n      <td>NaN</td>\n      <td>NaN</td>\n      <td>NaN</td>\n      <td>NaN</td>\n      <td>NaN</td>\n    </tr>\n    <tr>\n      <th>2600</th>\n      <td>2601</td>\n      <td>Autobiography and Writings of George W. Taylor</td>\n      <td>George W. Taylor</td>\n      <td>NaN</td>\n      <td>NaN</td>\n      <td>Sagwan Press</td>\n      <td>9781297969461</td>\n      <td>08/22/2015</td>\n      <td>82.0</td>\n      <td>6.14(w) x 9.21(h) x 0.25(d)</td>\n      <td>572</td>\n      <td>NaN</td>\n      <td>NaN</td>\n      <td>NaN</td>\n      <td>NaN</td>\n      <td>NaN</td>\n      <td>NaN</td>\n    </tr>\n    <tr>\n      <th>2700</th>\n      <td>2701</td>\n      <td>The Wondrous Autobiography Of Leaf, Erik's Son</td>\n      <td>Judy Link Cuddehe</td>\n      <td>NaN</td>\n      <td>NaN</td>\n      <td>Cuddehe Services</td>\n      <td>9780983665939</td>\n      <td>01/04/2012</td>\n      <td>36.0</td>\n      <td>8.00(w) x 10.00(h) x 0.25(d)</td>\n      <td>443</td>\n      <td>NaN</td>\n      <td>NaN</td>\n      <td>NaN</td>\n      <td>NaN</td>\n      <td>NaN</td>\n      <td>NaN</td>\n    </tr>\n    <tr>\n      <th>2800</th>\n      <td>2801</td>\n      <td>Recollections and reflections, a professional ...</td>\n      <td>James Robinson Planch�</td>\n      <td>NaN</td>\n      <td>NaN</td>\n      <td>London Tinsley</td>\n      <td>2940023549378</td>\n      <td>NaN</td>\n      <td>NaN</td>\n      <td>NaN</td>\n      <td>3351</td>\n      <td>NaN</td>\n      <td>NaN</td>\n      <td>NaN</td>\n      <td>NaN</td>\n      <td>$0.00</td>\n      <td>NaN</td>\n    </tr>\n    <tr>\n      <th>2900</th>\n      <td>2901</td>\n      <td>The Autobiography of Arthur Ransome</td>\n      <td>Arthur Ransome</td>\n      <td>NaN</td>\n      <td>NaN</td>\n      <td>Random House Adult Trade Publishing Group</td>\n      <td>9780224012454</td>\n      <td>12/27/1987</td>\n      <td>368.0</td>\n      <td>NaN</td>\n      <td>1701</td>\n      <td>NaN</td>\n      <td>NaN</td>\n      <td>NaN</td>\n      <td>NaN</td>\n      <td>NaN</td>\n      <td>NaN</td>\n    </tr>\n    <tr>\n      <th>3000</th>\n      <td>3001</td>\n      <td>Contemporary Authors Autobiography Series, Vol...</td>\n      <td>Mark Zadrozny</td>\n      <td>NaN</td>\n      <td>NaN</td>\n      <td>Gale Group</td>\n      <td>9780810345072</td>\n      <td>12/15/1988</td>\n      <td>350.0</td>\n      <td>8.70(w) x 11.10(h) x 1.00(d)</td>\n      <td>2876</td>\n      <td>NaN</td>\n      <td>NaN</td>\n      <td>NaN</td>\n      <td>NaN</td>\n      <td>NaN</td>\n      <td>NaN</td>\n    </tr>\n    <tr>\n      <th>3100</th>\n      <td>3101</td>\n      <td>The autobiography of the Reverend Lewis Grout ...</td>\n      <td>the Rev. Luther M. Keneston</td>\n      <td>NaN</td>\n      <td>NaN</td>\n      <td>Brattleboro, Vt. : Clapp &amp;amp; Jones</td>\n      <td>2940017762882</td>\n      <td>NaN</td>\n      <td>NaN</td>\n      <td>NaN</td>\n      <td>93</td>\n      <td>NaN</td>\n      <td>NaN</td>\n      <td>NaN</td>\n      <td>NaN</td>\n      <td>NaN</td>\n      <td>NaN</td>\n    </tr>\n    <tr>\n      <th>3200</th>\n      <td>3201</td>\n      <td>The First Million the Hardest: An Autobiograph...</td>\n      <td>A. B. Farquhar</td>\n      <td>NaN</td>\n      <td>NaN</td>\n      <td>FB &amp;amp;c Ltd</td>\n      <td>9781330433379</td>\n      <td>06/13/2015</td>\n      <td>342.0</td>\n      <td>6.00(w) x 9.00(h) x 0.71(d)</td>\n      <td>175</td>\n      <td>NaN</td>\n      <td>NaN</td>\n      <td>$12.26</td>\n      <td>NaN</td>\n      <td>$0.00</td>\n      <td>NaN</td>\n    </tr>\n    <tr>\n      <th>3300</th>\n      <td>3301</td>\n      <td>Third Lieutenant: An Autobiography</td>\n      <td>Bernard Feuer</td>\n      <td>NaN</td>\n      <td>NaN</td>\n      <td>AuthorHouse</td>\n      <td>9780759635654</td>\n      <td>10/28/2001</td>\n      <td>120.0</td>\n      <td>6.00(w) x 9.02(h) x 0.32(d)</td>\n      <td>2164</td>\n      <td>NaN</td>\n      <td>NaN</td>\n      <td>NaN</td>\n      <td>NaN</td>\n      <td>NaN</td>\n      <td>NaN</td>\n    </tr>\n    <tr>\n      <th>3400</th>\n      <td>3401</td>\n      <td>Understanding Language Autobiographies</td>\n      <td>Bonta Elena</td>\n      <td>NaN</td>\n      <td>NaN</td>\n      <td>OmniScriptum GmbH &amp;amp; Co. KG</td>\n      <td>9783659775147</td>\n      <td>09/03/2015</td>\n      <td>244.0</td>\n      <td>6.00(w) x 9.00(h) x 0.55(d)</td>\n      <td>1670</td>\n      <td>NaN</td>\n      <td>NaN</td>\n      <td>NaN</td>\n      <td>NaN</td>\n      <td>NaN</td>\n      <td>NaN</td>\n    </tr>\n    <tr>\n      <th>3500</th>\n      <td>3501</td>\n      <td>Grace Like a River: An Autobiography</td>\n      <td>Christopher Parkening</td>\n      <td>Kathy Tyers</td>\n      <td>NaN</td>\n      <td>Tyndale House Publishers</td>\n      <td>9781414300467</td>\n      <td>05/28/2006</td>\n      <td>304.0</td>\n      <td>5.60(w) x 8.40(h) x 1.20(d)</td>\n      <td>2411</td>\n      <td>NaN</td>\n      <td>NaN</td>\n      <td>NaN</td>\n      <td>NaN</td>\n      <td>NaN</td>\n      <td>NaN</td>\n    </tr>\n    <tr>\n      <th>3600</th>\n      <td>3601</td>\n      <td>Autobiography of Childhood</td>\n      <td>Sina Queyras</td>\n      <td>NaN</td>\n      <td>NaN</td>\n      <td>Coach House Books</td>\n      <td>9781770562912</td>\n      <td>12/19/2011</td>\n      <td>200.0</td>\n      <td>NaN</td>\n      <td>2638</td>\n      <td>NaN</td>\n      <td>NaN</td>\n      <td>$17.95</td>\n      <td>NaN</td>\n      <td>$10.99</td>\n      <td>NaN</td>\n    </tr>\n  </tbody>\n</table>\n</div>"
     },
     "execution_count": 27,
     "metadata": {},
     "output_type": "execute_result"
    }
   ],
   "source": [
    "df = pd.read_csv('Book3.csv',names= [\"ID\",\"Title\",\"Author1\",\"Author2\",\"Author3\",\"Publisher\",\"ISBN13\",\"Date\",\"Pages\",\"ProductDimensions\",\"SalesRank\",\"RatingsCount\",\"RatingValue\",\"PaperbookPrice\",\"HardcoverPrice\",\"EbookPrice\",\"AudiobookPrice\"])\n",
    "df = df[df.ID%100==1]\n",
    "df"
   ],
   "metadata": {
    "collapsed": false,
    "pycharm": {
     "name": "#%%\n"
    }
   }
  },
  {
   "cell_type": "code",
   "execution_count": 31,
   "outputs": [],
   "source": [
    "null_count = 0\n",
    "for index, row in df.iteritems():\n",
    "    for value in row:\n",
    "        if pd.isnull(value):\n",
    "            null_count+=1\n",
    "            break"
   ],
   "metadata": {
    "collapsed": false,
    "pycharm": {
     "name": "#%%\n"
    }
   }
  },
  {
   "cell_type": "code",
   "execution_count": 33,
   "outputs": [
    {
     "data": {
      "text/plain": "11"
     },
     "execution_count": 33,
     "metadata": {},
     "output_type": "execute_result"
    }
   ],
   "source": [
    "null_count"
   ],
   "metadata": {
    "collapsed": false,
    "pycharm": {
     "name": "#%%\n"
    }
   }
  },
  {
   "cell_type": "code",
   "execution_count": 40,
   "outputs": [],
   "source": [
    "value_num = df.shape[0]*df.shape[1]\n",
    "null_num = 0\n",
    "for record in records:\n",
    "    for value in record:\n",
    "        if value == '':\n",
    "            null_num+=1\n",
    "rate = round(null_num/value_num,3)"
   ],
   "metadata": {
    "collapsed": false,
    "pycharm": {
     "name": "#%%\n"
    }
   }
  },
  {
   "cell_type": "code",
   "execution_count": 41,
   "outputs": [
    {
     "data": {
      "text/plain": "439000.0"
     },
     "execution_count": 41,
     "metadata": {},
     "output_type": "execute_result"
    }
   ],
   "source": [
    "empo = rate*1000000\n",
    "empo"
   ],
   "metadata": {
    "collapsed": false,
    "pycharm": {
     "name": "#%%\n"
    }
   }
  },
  {
   "cell_type": "code",
   "execution_count": null,
   "outputs": [],
   "source": [],
   "metadata": {
    "collapsed": false,
    "pycharm": {
     "name": "#%%\n"
    }
   }
  }
 ],
 "metadata": {
  "kernelspec": {
   "display_name": "Python 3",
   "language": "python",
   "name": "python3"
  },
  "language_info": {
   "codemirror_mode": {
    "name": "ipython",
    "version": 2
   },
   "file_extension": ".py",
   "mimetype": "text/x-python",
   "name": "python",
   "nbconvert_exporter": "python",
   "pygments_lexer": "ipython2",
   "version": "2.7.6"
  }
 },
 "nbformat": 4,
 "nbformat_minor": 0
}